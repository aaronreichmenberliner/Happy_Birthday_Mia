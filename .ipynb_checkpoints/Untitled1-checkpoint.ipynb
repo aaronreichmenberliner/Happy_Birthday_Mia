{
 "cells": [
  {
   "cell_type": "code",
   "execution_count": 16,
   "metadata": {
    "collapsed": true
   },
   "outputs": [],
   "source": []
  },
  {
   "cell_type": "code",
   "execution_count": 17,
   "metadata": {},
   "outputs": [
    {
     "name": "stdout",
     "output_type": "stream",
     "text": [
      "Initialized TextToDNA object.\n"
     ]
    }
   ],
   "source": []
  },
  {
   "cell_type": "code",
   "execution_count": 19,
   "metadata": {},
   "outputs": [
    {
     "name": "stdout",
     "output_type": "stream",
     "text": [
      "Translating ASCII text to DNA...\n",
      "AAATAGAAACTCACATAGGAAGCGAGACTGTTACATAGAAACTCACATAGGAAGCGAGAC\n",
      "File translation complete.\n",
      "See testDNA.txt for results.\n"
     ]
    }
   ],
   "source": []
  },
  {
   "cell_type": "code",
   "execution_count": null,
   "metadata": {
    "collapsed": true
   },
   "outputs": [],
   "source": []
  },
  {
   "cell_type": "code",
   "execution_count": 23,
   "metadata": {},
   "outputs": [
    {
     "name": "stdout",
     "output_type": "stream",
     "text": [
      "Initialized DNAToText object.\n",
      "Translating DNA to ASCII text...\n",
      "Testing testing\n",
      "File translation complete.\n",
      "See return.txt for results.\n"
     ]
    }
   ],
   "source": [
    "from ASCIIcodons import DNAToText\n",
    "obj = DNAToText()\n",
    "obj.translate(\"testDNA.txt\", \"return.txt\")"
   ]
  },
  {
   "cell_type": "code",
   "execution_count": null,
   "metadata": {
    "collapsed": true
   },
   "outputs": [],
   "source": []
  },
  {
   "cell_type": "code",
   "execution_count": 1,
   "metadata": {},
   "outputs": [
    {
     "name": "stdout",
     "output_type": "stream",
     "text": [
      "Initialized TextToDNA object.\n",
      "Translating ASCII text to DNA...\n",
      "AAGAAGCCACAATGTTAGTCAGCCAGCAACTTAGGAAGCTAGAAAGATTGTTACATAGGTAGAATGTTATATATCGATTATGCGTGTTATTCAGCCAGCGAGACACTGAGTAACATACAAAGCTAGTAACATAGGAAGCCAGCGACTCTGTA\n",
      "\n",
      "ATGTAGTAACTTACTTACGATGTTAGTGAGGAACTGACATAGGTAGATAGTAACGATGTTATCAAGGAAGTATGTTATCAAGGAACTGAGGCAGCCACAGAGGAAGTCTGCGTGTTATGATGTTACACAGTAAGCGACATAGAAAGATTGTTACATAGCCTGTTAGACAGAAACATTGTTACGAAGCCACAATGTTACTCAGCCAGCAAGAAACATAGGTAGGAAGCGAGACTGTTACATAGGTAGTAACATTGTTACACAGCCACAAAGCTAGATTGTTAGCAAGTAAGGCAGAATGTTACGAAGCCACAATGTTAGAGAGAAAGAAAGCTTGTTAGACAGCCAGCCAGATTGTTAGCCAGCGTGTTAGTGAGCCACATAGGTTGTTACATAGGTAGAATGTTAGGAAGCGACTCAGGAAGATAGAATGTTAGTAAGCGAGATTGTTAGCCACAAACATACTCAGGAAGATAGAATGCGTGTTATGATGTTAGTAAGCATGTTACTGAGAAAGTAAGCTAGCTACGATGTTAGGTAGTAACTTACTTACGATGTTACATAGGTAGTAACATTGTTATGATGTTAGAGAGCCACAAAGCGAGATTGTTACGAAGCCACAATGCTTGTTAGTAAGCGAGATTGTTACATAGGTAGTAACATTGTTACGAAGCCACAATGTTAGGTAGTAACAGAGAATGTTAGCGAGCCACATTGTTAGCTAGAAAGAGACATTGTTAGAGAGCCACTGTGTTAGTGAGGAAGACAGACAGAAACTGTGTTAGTAAGCGAGATTGTTAGTGAGAAACATACATAGAAACTGTGTTACATAGGTAGGAAGCGAGACACTCTGTTAGGGACAAACTCACATTGTTACGAAGAAACATTGCG\n",
      "File translation complete.\n",
      "See DNA.txt for results.\n"
     ]
    }
   ],
   "source": [
    "from ASCIIcodons import TextToDNA\n",
    "obj = TextToDNA()\n",
    "obj.translate(\"textin.txt\",\"DNA.txt\")"
   ]
  },
  {
   "cell_type": "code",
   "execution_count": null,
   "metadata": {
    "collapsed": true
   },
   "outputs": [],
   "source": []
  }
 ],
 "metadata": {
  "kernelspec": {
   "display_name": "Python 2",
   "language": "python",
   "name": "python2"
  },
  "language_info": {
   "codemirror_mode": {
    "name": "ipython",
    "version": 2
   },
   "file_extension": ".py",
   "mimetype": "text/x-python",
   "name": "python",
   "nbconvert_exporter": "python",
   "pygments_lexer": "ipython2",
   "version": "2.7.13"
  }
 },
 "nbformat": 4,
 "nbformat_minor": 2
}
